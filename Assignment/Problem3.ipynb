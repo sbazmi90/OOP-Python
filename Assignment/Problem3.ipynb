{
 "cells": [
  {
   "cell_type": "markdown",
   "id": "6b3f996e",
   "metadata": {},
   "source": [
    "#### Implement a custom exception called InvalidTriangleException, and raise this exception in the Triangle class \n",
    "\n",
    "#### if the given sides do not form a valid triangle. The Triangle class should have methods to calculate the area and perimeter \n",
    "\n",
    "#### of the triangle."
   ]
  },
  {
   "cell_type": "code",
   "execution_count": 2,
   "id": "594f4752",
   "metadata": {},
   "outputs": [],
   "source": [
    "class InvalidTriangleException(Exception):\n",
    "    pass"
   ]
  },
  {
   "cell_type": "code",
   "execution_count": 46,
   "id": "cd58ace0",
   "metadata": {},
   "outputs": [],
   "source": [
    "class Triangle:\n",
    "    \n",
    "    \n",
    "    def __init__(self, side1, side2, side3):\n",
    "        self.side1 = side1\n",
    "        self.side2 = side2\n",
    "        self.side3 = side3\n",
    "        \n",
    "        if self.side1 + self.side2 <= self.side3 or self.side2 + self.side3 <= self.side1 or self.side1 + self.side3 <= self.side2:\n",
    "            raise InvalidTriangleException(\"Mathematically, it's not right\")\n",
    "            \n",
    "    def Perimeter(self):\n",
    "        p = self.side1+self.side2+self.side3\n",
    "        print(\"The perimeter is\", p)\n",
    "    \n",
    "    def __str__(self):\n",
    "        return f\"Triangle with {self.side1} meter, with {self.side2}, and with {self.side3}\""
   ]
  },
  {
   "cell_type": "code",
   "execution_count": 47,
   "id": "9e6cfa51",
   "metadata": {},
   "outputs": [],
   "source": [
    "t = Triangle(1,2,2)"
   ]
  },
  {
   "cell_type": "code",
   "execution_count": 48,
   "id": "3750205c",
   "metadata": {},
   "outputs": [
    {
     "name": "stdout",
     "output_type": "stream",
     "text": [
      "The perimeter is 5\n"
     ]
    }
   ],
   "source": [
    "t.Perimeter()"
   ]
  },
  {
   "cell_type": "code",
   "execution_count": 49,
   "id": "be1d694b",
   "metadata": {},
   "outputs": [
    {
     "data": {
      "text/plain": [
       "'Triangle with 1 meter, with 2, and with 2'"
      ]
     },
     "execution_count": 49,
     "metadata": {},
     "output_type": "execute_result"
    }
   ],
   "source": [
    "t.__str__()"
   ]
  },
  {
   "cell_type": "code",
   "execution_count": null,
   "id": "ecf8cc7e",
   "metadata": {},
   "outputs": [],
   "source": []
  }
 ],
 "metadata": {
  "kernelspec": {
   "display_name": "Python 3 (ipykernel)",
   "language": "python",
   "name": "python3"
  },
  "language_info": {
   "codemirror_mode": {
    "name": "ipython",
    "version": 3
   },
   "file_extension": ".py",
   "mimetype": "text/x-python",
   "name": "python",
   "nbconvert_exporter": "python",
   "pygments_lexer": "ipython3",
   "version": "3.9.13"
  }
 },
 "nbformat": 4,
 "nbformat_minor": 5
}
