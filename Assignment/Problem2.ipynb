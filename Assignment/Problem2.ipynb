{
 "cells": [
  {
   "cell_type": "markdown",
   "id": "ff72b839",
   "metadata": {},
   "source": [
    "## Problem 2:\n",
    "    \n",
    "#### Implement a Complex class that represents complex numbers, and overload the addition, subtraction, \n",
    "\n",
    "#### multiplication, and division operators to perform the corresponding operations on complex numbers."
   ]
  },
  {
   "cell_type": "code",
   "execution_count": 37,
   "id": "d63a742b",
   "metadata": {},
   "outputs": [],
   "source": [
    "class Complex:\n",
    "    \n",
    "    def __init__(self, real, imag):\n",
    "        self.real = real\n",
    "        self.imag = imag\n",
    "        \n",
    "    def __add__(self, other):\n",
    "        return Complex(self.real + other.real, self.imag+ other.imag)\n",
    "    \n",
    "    def __sub__(self, other):\n",
    "        return Complex(self.real - other.real, self.imag - other.imag)\n",
    "    \n",
    "    def __mul__(self, other):\n",
    "        real = self.real * other.real - self.imag * other.imag\n",
    "        imag = self.real * other.imag + self.imag * other.real\n",
    "        return Complex(real, imag)\n",
    "    \n",
    "    def __trudiv__(self, other):\n",
    "        real = (self.real * other.real + self.imag * other.imag) / (other.real**2 + other.imag**2)\n",
    "        imag = (self.imag * other.real - self.real * other.imag) / (other.real**2 + other.imag**2)\n",
    "        return Complex(real, imag)\n",
    "    \n",
    "    def show(self):\n",
    "        return f\"{self.real},{self.imag}i\""
   ]
  },
  {
   "cell_type": "code",
   "execution_count": 38,
   "id": "005a864a",
   "metadata": {},
   "outputs": [],
   "source": [
    "n1 = Complex(5,-7)\n",
    "n2 = Complex(4,-3)\n",
    "n3 = n1+n2"
   ]
  },
  {
   "cell_type": "code",
   "execution_count": 39,
   "id": "65108f8c",
   "metadata": {},
   "outputs": [
    {
     "data": {
      "text/plain": [
       "'9,-10i'"
      ]
     },
     "execution_count": 39,
     "metadata": {},
     "output_type": "execute_result"
    }
   ],
   "source": [
    "n3.show()"
   ]
  },
  {
   "cell_type": "code",
   "execution_count": null,
   "id": "4b2a40c0",
   "metadata": {},
   "outputs": [],
   "source": []
  }
 ],
 "metadata": {
  "kernelspec": {
   "display_name": "Python 3 (ipykernel)",
   "language": "python",
   "name": "python3"
  },
  "language_info": {
   "codemirror_mode": {
    "name": "ipython",
    "version": 3
   },
   "file_extension": ".py",
   "mimetype": "text/x-python",
   "name": "python",
   "nbconvert_exporter": "python",
   "pygments_lexer": "ipython3",
   "version": "3.9.13"
  }
 },
 "nbformat": 4,
 "nbformat_minor": 5
}
