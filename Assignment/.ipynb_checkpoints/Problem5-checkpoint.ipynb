{
 "cells": [
  {
   "cell_type": "markdown",
   "id": "9359e50d",
   "metadata": {},
   "source": [
    "## Problem 5"
   ]
  },
  {
   "cell_type": "markdown",
   "id": "d4fcc947",
   "metadata": {},
   "source": [
    "#### Create a class Car with attributes make, model, and year. Create a subclass ElectricCar that inherits from Car and adds a \n",
    "\n",
    "#### battery_size attribute. Also, add a method called describe_battery that returns a string describing the battery size of the \n",
    "\n",
    "#### electric car."
   ]
  },
  {
   "cell_type": "code",
   "execution_count": 1,
   "id": "5bc2f8c2",
   "metadata": {},
   "outputs": [],
   "source": [
    "class Car:\n",
    "    \n",
    "    def __init__(self, make, model, year):\n",
    "        \n",
    "        self.make = make\n",
    "        self.model = model\n",
    "        self.year = year"
   ]
  },
  {
   "cell_type": "code",
   "execution_count": 2,
   "id": "ee5319cf",
   "metadata": {},
   "outputs": [],
   "source": [
    "class ElectricCar(Car):\n",
    "    \n",
    "    def __init__(self, make, model, year, battery_size):\n",
    "        super().__init__(make, model, year)\n",
    "        self.battery_size = battery_size\n",
    "        \n",
    "    def describe_battery(self):\n",
    "        return \"This car has a \"+str(self.battery_size)+\"-kwh battery\""
   ]
  },
  {
   "cell_type": "code",
   "execution_count": 3,
   "id": "a6a1e03d",
   "metadata": {},
   "outputs": [],
   "source": [
    "car = ElectricCar(\"Tesla\", \"T1\", 2023, 148)"
   ]
  },
  {
   "cell_type": "code",
   "execution_count": 4,
   "id": "526fcd34",
   "metadata": {},
   "outputs": [
    {
     "data": {
      "text/plain": [
       "'This car has a 148-kwh battery'"
      ]
     },
     "execution_count": 4,
     "metadata": {},
     "output_type": "execute_result"
    }
   ],
   "source": [
    "car.describe_battery()"
   ]
  },
  {
   "cell_type": "code",
   "execution_count": null,
   "id": "cf52a11d",
   "metadata": {},
   "outputs": [],
   "source": []
  }
 ],
 "metadata": {
  "kernelspec": {
   "display_name": "Python 3 (ipykernel)",
   "language": "python",
   "name": "python3"
  },
  "language_info": {
   "codemirror_mode": {
    "name": "ipython",
    "version": 3
   },
   "file_extension": ".py",
   "mimetype": "text/x-python",
   "name": "python",
   "nbconvert_exporter": "python",
   "pygments_lexer": "ipython3",
   "version": "3.9.13"
  }
 },
 "nbformat": 4,
 "nbformat_minor": 5
}
