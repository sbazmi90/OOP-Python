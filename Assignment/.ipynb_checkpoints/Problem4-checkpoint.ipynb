{
 "cells": [
  {
   "cell_type": "markdown",
   "id": "ee76ac4b",
   "metadata": {},
   "source": [
    "## Problem 4"
   ]
  },
  {
   "cell_type": "markdown",
   "id": "b5bab515",
   "metadata": {},
   "source": [
    "#### Create a class BankAccount with attributes account_number, name, balance, and methods deposit, withdraw, and \n",
    "\n",
    "#### check_balance. Create a subclass SavingAccount that inherits from BankAccount, adds an interest rate attribute, and \n",
    "\n",
    "#### overrides the deposit method to add the interest rate to the deposit amount."
   ]
  },
  {
   "cell_type": "code",
   "execution_count": 58,
   "id": "6ba993f3",
   "metadata": {},
   "outputs": [],
   "source": [
    "class BankAccount:\n",
    "    \n",
    "    def __init__(self, account_number, name, balance):\n",
    "        self.account_number = account_number\n",
    "        self.name = name\n",
    "        self.balance = balance\n",
    "        \n",
    "    def deposit(self, amount):\n",
    "        self.amount = amount\n",
    "        self.balance += amount\n",
    "        \n",
    "    def withdraw(self, amount):\n",
    "        self.amount = amount\n",
    "        if amount <= balance:\n",
    "            self.balance =- amount\n",
    "        else:\n",
    "            return \"Insufficient fund, SORRY!\"\n",
    "        \n",
    "    def check_balance(self):\n",
    "        return self.balance"
   ]
  },
  {
   "cell_type": "code",
   "execution_count": 59,
   "id": "4a3dc1ef",
   "metadata": {},
   "outputs": [],
   "source": [
    "class SavingAccount(BankAccount):\n",
    "    \n",
    "    def __init__(self, account_number, name, balance,interest_rate):\n",
    "        super().__init__(account_number, name, balance)\n",
    "        self.interest_rate = interest_rate\n",
    "        \n",
    "        \n",
    "    def deposit(self, amount):\n",
    "        super().deposit(amount)\n",
    "        self.balance += self.balance * (self.interest_rate/100) "
   ]
  },
  {
   "cell_type": "code",
   "execution_count": 60,
   "id": "a5e39ff9",
   "metadata": {},
   "outputs": [],
   "source": [
    "bank_account = BankAccount(\"51713\", \"John\", 15200)"
   ]
  },
  {
   "cell_type": "code",
   "execution_count": 61,
   "id": "e913611e",
   "metadata": {},
   "outputs": [
    {
     "data": {
      "text/plain": [
       "'51713'"
      ]
     },
     "execution_count": 61,
     "metadata": {},
     "output_type": "execute_result"
    }
   ],
   "source": [
    "bank_account.account_number"
   ]
  },
  {
   "cell_type": "code",
   "execution_count": 62,
   "id": "542efa55",
   "metadata": {},
   "outputs": [
    {
     "data": {
      "text/plain": [
       "'John'"
      ]
     },
     "execution_count": 62,
     "metadata": {},
     "output_type": "execute_result"
    }
   ],
   "source": [
    "bank_account.name"
   ]
  },
  {
   "cell_type": "code",
   "execution_count": 63,
   "id": "c731e243",
   "metadata": {},
   "outputs": [
    {
     "data": {
      "text/plain": [
       "15200"
      ]
     },
     "execution_count": 63,
     "metadata": {},
     "output_type": "execute_result"
    }
   ],
   "source": [
    "bank_account.balance"
   ]
  },
  {
   "cell_type": "code",
   "execution_count": 64,
   "id": "d0d63032",
   "metadata": {},
   "outputs": [],
   "source": [
    "bank_account.deposit(800)"
   ]
  },
  {
   "cell_type": "code",
   "execution_count": null,
   "id": "14ddc1a0",
   "metadata": {},
   "outputs": [],
   "source": []
  },
  {
   "cell_type": "code",
   "execution_count": null,
   "id": "c23fc78a",
   "metadata": {},
   "outputs": [],
   "source": []
  },
  {
   "cell_type": "code",
   "execution_count": 65,
   "id": "10111be4",
   "metadata": {},
   "outputs": [],
   "source": [
    "saving_account = SavingAccount(15478, \"Jake\", 13200, 5)"
   ]
  },
  {
   "cell_type": "code",
   "execution_count": 66,
   "id": "6c5a47b2",
   "metadata": {},
   "outputs": [],
   "source": [
    "saving_account.deposit(2500)"
   ]
  },
  {
   "cell_type": "code",
   "execution_count": 67,
   "id": "a51e2433",
   "metadata": {},
   "outputs": [
    {
     "name": "stdout",
     "output_type": "stream",
     "text": [
      "None\n"
     ]
    }
   ],
   "source": [
    "print(saving_account.deposit(2500))"
   ]
  },
  {
   "cell_type": "code",
   "execution_count": 68,
   "id": "2da227cd",
   "metadata": {},
   "outputs": [
    {
     "data": {
      "text/plain": [
       "19934.25"
      ]
     },
     "execution_count": 68,
     "metadata": {},
     "output_type": "execute_result"
    }
   ],
   "source": [
    "saving_account.check_balance()"
   ]
  },
  {
   "cell_type": "code",
   "execution_count": null,
   "id": "314162e1",
   "metadata": {},
   "outputs": [],
   "source": []
  }
 ],
 "metadata": {
  "kernelspec": {
   "display_name": "Python 3 (ipykernel)",
   "language": "python",
   "name": "python3"
  },
  "language_info": {
   "codemirror_mode": {
    "name": "ipython",
    "version": 3
   },
   "file_extension": ".py",
   "mimetype": "text/x-python",
   "name": "python",
   "nbconvert_exporter": "python",
   "pygments_lexer": "ipython3",
   "version": "3.9.13"
  }
 },
 "nbformat": 4,
 "nbformat_minor": 5
}
