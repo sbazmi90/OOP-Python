{
 "cells": [
  {
   "cell_type": "markdown",
   "id": "df0e0c51",
   "metadata": {},
   "source": [
    "## Problem 6"
   ]
  },
  {
   "cell_type": "markdown",
   "id": "6b3350e4",
   "metadata": {},
   "source": [
    "#### Create a class Animal with attributes name and species, and a method called make_sound that returns a string describing \n",
    "\n",
    "#### the animal's sound. Create a subclass Dog that inherits from Animal and overrides the make_sound method to return the \n",
    "\n",
    "#### sound of a dog. Create another subclass Cat that inherits from Animal and overrides the make_sound method to return \n",
    "\n",
    "#### the sound of a cat."
   ]
  },
  {
   "cell_type": "code",
   "execution_count": 38,
   "id": "daed82a6",
   "metadata": {},
   "outputs": [],
   "source": [
    "class Animal:\n",
    "    \n",
    "    def __init__(self, name, species):\n",
    "        self.name = name\n",
    "        self.species = species\n",
    "        \n",
    "    def make_sound(self):\n",
    "        return \"The animal makes a sound\""
   ]
  },
  {
   "cell_type": "code",
   "execution_count": 39,
   "id": "3610e52d",
   "metadata": {},
   "outputs": [],
   "source": [
    "class Dog(Animal):\n",
    "    \n",
    "    def make_sound(self):\n",
    "        return \"The dog barks\""
   ]
  },
  {
   "cell_type": "code",
   "execution_count": 56,
   "id": "6748920c",
   "metadata": {},
   "outputs": [],
   "source": [
    "class Cat(Animal):\n",
    "    \n",
    "    def __init__(self, name, species):\n",
    "        super().__init__(name, species)\n",
    "        \n",
    "    def make_sound(self):\n",
    "        return \"The says Meow\"\n",
    "    \n",
    "    def __str__(self):\n",
    "        return \"The \" + str(self.name) + \" \" +str(self.species)+ \" says Meow\""
   ]
  },
  {
   "cell_type": "code",
   "execution_count": 57,
   "id": "5bd66206",
   "metadata": {},
   "outputs": [],
   "source": [
    "cat = Cat(\"Kiwi\", \"Persian\")"
   ]
  },
  {
   "cell_type": "code",
   "execution_count": 58,
   "id": "255fc7b9",
   "metadata": {},
   "outputs": [
    {
     "data": {
      "text/plain": [
       "'The says Meow'"
      ]
     },
     "execution_count": 58,
     "metadata": {},
     "output_type": "execute_result"
    }
   ],
   "source": [
    "cat.make_sound()"
   ]
  },
  {
   "cell_type": "code",
   "execution_count": 59,
   "id": "340df28e",
   "metadata": {},
   "outputs": [
    {
     "data": {
      "text/plain": [
       "'The Kiwi Persian says Meow'"
      ]
     },
     "execution_count": 59,
     "metadata": {},
     "output_type": "execute_result"
    }
   ],
   "source": [
    "cat.__str__()"
   ]
  },
  {
   "cell_type": "code",
   "execution_count": null,
   "id": "73d749e8",
   "metadata": {},
   "outputs": [],
   "source": []
  }
 ],
 "metadata": {
  "kernelspec": {
   "display_name": "Python 3 (ipykernel)",
   "language": "python",
   "name": "python3"
  },
  "language_info": {
   "codemirror_mode": {
    "name": "ipython",
    "version": 3
   },
   "file_extension": ".py",
   "mimetype": "text/x-python",
   "name": "python",
   "nbconvert_exporter": "python",
   "pygments_lexer": "ipython3",
   "version": "3.9.13"
  }
 },
 "nbformat": 4,
 "nbformat_minor": 5
}
