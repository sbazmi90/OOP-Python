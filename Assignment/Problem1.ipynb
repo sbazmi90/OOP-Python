{
 "cells": [
  {
   "cell_type": "markdown",
   "id": "bd9d1488",
   "metadata": {},
   "source": [
    "## Problem 1\n",
    "\n",
    "### Implement a Rectangle class that has attributes width and height, and methods to calculate the area and \n",
    "\n",
    "### perimeter. Create a subclass Square that inherits from the Rectangle class and overrides the __init__ \n",
    "\n",
    "### method to ensure that the width and height are always equal."
   ]
  },
  {
   "cell_type": "code",
   "execution_count": 34,
   "id": "0962ef03",
   "metadata": {},
   "outputs": [],
   "source": [
    "class Rectangle:\n",
    "    \n",
    "    def __init__(self, width, height):\n",
    "        self.width = width\n",
    "        self.height = height\n",
    "        \n",
    "    def Area(self):\n",
    "        return self.width * self.height\n",
    "    \n",
    "    def Perimeter(self):\n",
    "        return 2 * (self.width + self.height)\n",
    "    \n",
    "    def __str__(self):\n",
    "        return f\"This rectangle has height {self.width} and height {self.height}\""
   ]
  },
  {
   "cell_type": "code",
   "execution_count": 53,
   "id": "d634057f",
   "metadata": {},
   "outputs": [],
   "source": [
    "class Square(Rectangle):\n",
    "    \n",
    "    def __init__(self, side):\n",
    "        super().__init__(side,side)\n",
    "        \n",
    "    def Area(self):\n",
    "        if self.width == self.height:\n",
    "            return self.width ** 2\n",
    "        else:\n",
    "            print(\"This is not a square\")"
   ]
  },
  {
   "cell_type": "code",
   "execution_count": 54,
   "id": "389260af",
   "metadata": {},
   "outputs": [],
   "source": [
    "rect = Rectangle(2,3)"
   ]
  },
  {
   "cell_type": "code",
   "execution_count": 55,
   "id": "330fc384",
   "metadata": {},
   "outputs": [
    {
     "data": {
      "text/plain": [
       "6"
      ]
     },
     "execution_count": 55,
     "metadata": {},
     "output_type": "execute_result"
    }
   ],
   "source": [
    "rect.Area()"
   ]
  },
  {
   "cell_type": "code",
   "execution_count": 56,
   "id": "6dffb7d4",
   "metadata": {},
   "outputs": [
    {
     "data": {
      "text/plain": [
       "10"
      ]
     },
     "execution_count": 56,
     "metadata": {},
     "output_type": "execute_result"
    }
   ],
   "source": [
    "rect.Perimeter()"
   ]
  },
  {
   "cell_type": "code",
   "execution_count": 57,
   "id": "2e92bca7",
   "metadata": {},
   "outputs": [
    {
     "data": {
      "text/plain": [
       "'This rectangle has height 2 and height 3'"
      ]
     },
     "execution_count": 57,
     "metadata": {},
     "output_type": "execute_result"
    }
   ],
   "source": [
    "rect.__str__()"
   ]
  },
  {
   "cell_type": "code",
   "execution_count": 58,
   "id": "daa6edbe",
   "metadata": {},
   "outputs": [],
   "source": [
    "s = Rectangle(5,3)"
   ]
  },
  {
   "cell_type": "code",
   "execution_count": 59,
   "id": "73dc1e94",
   "metadata": {},
   "outputs": [
    {
     "data": {
      "text/plain": [
       "15"
      ]
     },
     "execution_count": 59,
     "metadata": {},
     "output_type": "execute_result"
    }
   ],
   "source": [
    "s.Area()"
   ]
  },
  {
   "cell_type": "code",
   "execution_count": 60,
   "id": "c40a24da",
   "metadata": {},
   "outputs": [],
   "source": [
    "s = Square(5)"
   ]
  },
  {
   "cell_type": "code",
   "execution_count": 61,
   "id": "a8af3b54",
   "metadata": {},
   "outputs": [
    {
     "data": {
      "text/plain": [
       "25"
      ]
     },
     "execution_count": 61,
     "metadata": {},
     "output_type": "execute_result"
    }
   ],
   "source": [
    "s.Area()"
   ]
  },
  {
   "cell_type": "code",
   "execution_count": null,
   "id": "1537409d",
   "metadata": {},
   "outputs": [],
   "source": []
  }
 ],
 "metadata": {
  "kernelspec": {
   "display_name": "Python 3 (ipykernel)",
   "language": "python",
   "name": "python3"
  },
  "language_info": {
   "codemirror_mode": {
    "name": "ipython",
    "version": 3
   },
   "file_extension": ".py",
   "mimetype": "text/x-python",
   "name": "python",
   "nbconvert_exporter": "python",
   "pygments_lexer": "ipython3",
   "version": "3.9.13"
  }
 },
 "nbformat": 4,
 "nbformat_minor": 5
}
