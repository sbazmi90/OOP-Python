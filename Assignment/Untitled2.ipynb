{
 "cells": [
  {
   "cell_type": "markdown",
   "id": "ed84a662",
   "metadata": {},
   "source": [
    "## Problem 6"
   ]
  },
  {
   "cell_type": "markdown",
   "id": "5d756da4",
   "metadata": {},
   "source": [
    "#### Create a class Animal with attributes name and species, and a method called make_sound that returns a string describing \n",
    "\n",
    "#### the animal's sound. Create a subclass Dog that inherits from Animal and overrides the make_sound method to return the \n",
    "\n",
    "#### sound of a dog. Create another subclass Cat that inherits from Animal and overrides the make_sound method to return \n",
    "\n",
    "#### the sound of a cat."
   ]
  },
  {
   "cell_type": "code",
   "execution_count": 5,
   "id": "adf40797",
   "metadata": {},
   "outputs": [
    {
     "ename": "SyntaxError",
     "evalue": "invalid syntax (2864444693.py, line 1)",
     "output_type": "error",
     "traceback": [
      "\u001b[0;36m  File \u001b[0;32m\"/tmp/ipykernel_3499/2864444693.py\"\u001b[0;36m, line \u001b[0;32m1\u001b[0m\n\u001b[0;31m    help listdir\u001b[0m\n\u001b[0m         ^\u001b[0m\n\u001b[0;31mSyntaxError\u001b[0m\u001b[0;31m:\u001b[0m invalid syntax\n"
     ]
    }
   ],
   "source": [
    "help listdir"
   ]
  },
  {
   "cell_type": "code",
   "execution_count": 4,
   "id": "52b15407",
   "metadata": {},
   "outputs": [
    {
     "name": "stdout",
     "output_type": "stream",
     "text": [
      "Object `listdir` not found.\n"
     ]
    }
   ],
   "source": [
    "listdir?"
   ]
  },
  {
   "cell_type": "code",
   "execution_count": null,
   "id": "5350c269",
   "metadata": {},
   "outputs": [],
   "source": []
  }
 ],
 "metadata": {
  "kernelspec": {
   "display_name": "Python 3 (ipykernel)",
   "language": "python",
   "name": "python3"
  },
  "language_info": {
   "codemirror_mode": {
    "name": "ipython",
    "version": 3
   },
   "file_extension": ".py",
   "mimetype": "text/x-python",
   "name": "python",
   "nbconvert_exporter": "python",
   "pygments_lexer": "ipython3",
   "version": "3.9.13"
  }
 },
 "nbformat": 4,
 "nbformat_minor": 5
}
