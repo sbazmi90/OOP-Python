{
 "cells": [
  {
   "cell_type": "markdown",
   "id": "2afe5ce9",
   "metadata": {},
   "source": [
    "## Problem 5"
   ]
  },
  {
   "cell_type": "markdown",
   "id": "aa66f9a8",
   "metadata": {},
   "source": [
    "#### Create a class Car with attributes make, model, and year. Create a subclass ElectricCar that inherits from Car and adds a \n",
    "\n",
    "#### battery_size attribute. Also, add a method called describe_battery that returns a string describing the battery size of the \n",
    "\n",
    "#### electric car."
   ]
  },
  {
   "cell_type": "code",
   "execution_count": null,
   "id": "12d038e7",
   "metadata": {},
   "outputs": [],
   "source": []
  }
 ],
 "metadata": {
  "kernelspec": {
   "display_name": "Python 3 (ipykernel)",
   "language": "python",
   "name": "python3"
  },
  "language_info": {
   "codemirror_mode": {
    "name": "ipython",
    "version": 3
   },
   "file_extension": ".py",
   "mimetype": "text/x-python",
   "name": "python",
   "nbconvert_exporter": "python",
   "pygments_lexer": "ipython3",
   "version": "3.9.13"
  }
 },
 "nbformat": 4,
 "nbformat_minor": 5
}
