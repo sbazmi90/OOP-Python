{
 "cells": [
  {
   "cell_type": "code",
   "execution_count": 4,
   "id": "6edc3012",
   "metadata": {},
   "outputs": [
    {
     "ename": "IndentationError",
     "evalue": "expected an indented block (1802226249.py, line 3)",
     "output_type": "error",
     "traceback": [
      "\u001b[0;36m  File \u001b[0;32m\"/tmp/ipykernel_6295/1802226249.py\"\u001b[0;36m, line \u001b[0;32m3\u001b[0m\n\u001b[0;31m    except ZeroDivisionError:\u001b[0m\n\u001b[0m    ^\u001b[0m\n\u001b[0;31mIndentationError\u001b[0m\u001b[0;31m:\u001b[0m expected an indented block\n"
     ]
    }
   ],
   "source": [
    "try:\n",
    "    # code that may raise an exception\n",
    "except ZeroDivisionError:\n",
    "    # code to handle the ZeroDivisionError\n",
    "except KeyError:\n",
    "    # code to handle the KeyError\n",
    "except:\n",
    "    # code to handle any other exceptions that were not handled above"
   ]
  },
  {
   "cell_type": "markdown",
   "id": "5659dae6",
   "metadata": {},
   "source": [
    "#### Exceptions are special objects in Python that indicate an error has occurred during the execution of the program. When\n",
    "\n",
    "#### an error occurs, an exception is raised, and the program stops executing normally. Exception handling allows us to catch \n",
    "\n",
    "#### and handle these exceptions, and continue executing the rest of the program. This makes our program more robust and \n",
    "\n",
    "#### less likely to crash due to unexpected errors.\n",
    "\n",
    "\n",
    "\n",
    "#### Exceptions can be raised by the Python interpreter, or they can be raised by our own code. Some common exceptions in \n",
    "\n",
    "#### Python include:\n",
    "\n",
    "    ZeroDivisionError: Raised when trying to divide by zero.\n",
    "    IndexError: Raised when trying to access an index that is out of range.\n",
    "    KeyError: Raised when trying to access a key in a dictionary that doesn't exist."
   ]
  },
  {
   "cell_type": "code",
   "execution_count": null,
   "id": "fc4a934a",
   "metadata": {},
   "outputs": [],
   "source": []
  }
 ],
 "metadata": {
  "kernelspec": {
   "display_name": "Python 3 (ipykernel)",
   "language": "python",
   "name": "python3"
  },
  "language_info": {
   "codemirror_mode": {
    "name": "ipython",
    "version": 3
   },
   "file_extension": ".py",
   "mimetype": "text/x-python",
   "name": "python",
   "nbconvert_exporter": "python",
   "pygments_lexer": "ipython3",
   "version": "3.9.13"
  }
 },
 "nbformat": 4,
 "nbformat_minor": 5
}
