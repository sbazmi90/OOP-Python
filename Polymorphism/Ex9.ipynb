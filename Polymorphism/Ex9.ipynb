{
 "cells": [
  {
   "cell_type": "code",
   "execution_count": 1,
   "id": "00b0134e",
   "metadata": {},
   "outputs": [],
   "source": [
    "class BankAccount:\n",
    "    \n",
    "    \n",
    "    def __init__(self, name, balance = 0):\n",
    "        self.name = name\n",
    "        self.balance = balance\n",
    "        \n",
    "        \n",
    "    def __str__(self):\n",
    "        return f\"{self.name} has a balance of {self.balance}\"\n",
    "    \n",
    "    def deposite(self, amount):\n",
    "        self.balance += amount\n",
    "        \n",
    "    def withdraw(self, amount):\n",
    "        if self.balance - amount >= 0:\n",
    "            self.balance -= amount\n",
    "        else:\n",
    "            raise Exception(\"Insufficient funds\")"
   ]
  },
  {
   "cell_type": "code",
   "execution_count": 10,
   "id": "400635ab",
   "metadata": {},
   "outputs": [],
   "source": [
    "class SavingAccount(BankAccount):\n",
    "    \n",
    "    def __init__(self, name, balance = 0, interest = 0):\n",
    "        super().__init__(name, balance)\n",
    "        self.interest = interest\n",
    "            \n",
    "    def __str__(self):\n",
    "        return f\"{super().__str__()} and an interest rate of {self.interest}\"\n",
    "    \n",
    "    def withdraw(self, amount):\n",
    "        if self.balance - amount >= 0:\n",
    "            self.balance -= amount\n",
    "        elif self.balance - amount >= -200:\n",
    "                self.balance -= amount+20\n",
    "                print(\"A fee of 20 bucks has been charged for going below the minimum balance\")\n",
    "        else:\n",
    "            raise Exception(\"Insufficient funds\")\n",
    "            "
   ]
  },
  {
   "cell_type": "code",
   "execution_count": 13,
   "id": "f35d6d04",
   "metadata": {},
   "outputs": [],
   "source": [
    "saving_account = SavingAccount(\"John Doe\", 1000 , 4)"
   ]
  },
  {
   "cell_type": "code",
   "execution_count": 14,
   "id": "a0e7389c",
   "metadata": {},
   "outputs": [
    {
     "name": "stdout",
     "output_type": "stream",
     "text": [
      "John Doe has a balance of 1000 and an interest rate of 4\n"
     ]
    }
   ],
   "source": [
    "print(saving_account)"
   ]
  },
  {
   "cell_type": "code",
   "execution_count": null,
   "id": "91b141f7",
   "metadata": {},
   "outputs": [],
   "source": []
  }
 ],
 "metadata": {
  "kernelspec": {
   "display_name": "Python 3 (ipykernel)",
   "language": "python",
   "name": "python3"
  },
  "language_info": {
   "codemirror_mode": {
    "name": "ipython",
    "version": 3
   },
   "file_extension": ".py",
   "mimetype": "text/x-python",
   "name": "python",
   "nbconvert_exporter": "python",
   "pygments_lexer": "ipython3",
   "version": "3.9.13"
  }
 },
 "nbformat": 4,
 "nbformat_minor": 5
}
