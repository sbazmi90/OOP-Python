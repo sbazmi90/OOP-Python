{
 "cells": [
  {
   "cell_type": "markdown",
   "id": "f8324825",
   "metadata": {},
   "source": [
    "#### In this example, the Point class overloads several mathematical operators, including +, -, and *. The __add__, __sub__, \n",
    "\n",
    "#### and __mul__ methods are the special methods for these operators. These methods check the type of the other argument \n",
    "\n",
    "#### using the isinstance function and perform the corresponding mathematical operation accordingly. The __str__ method is \n",
    "\n",
    "#### also defined to return a string representation of the point, which makes it easier to print out the point."
   ]
  },
  {
   "cell_type": "code",
   "execution_count": 1,
   "id": "9370f954",
   "metadata": {},
   "outputs": [],
   "source": [
    "class Point:\n",
    "    \n",
    "    def __init__(self, x, y):\n",
    "        self.x = x\n",
    "        self.y = y\n",
    "        \n",
    "        \n",
    "    def __str__(self):\n",
    "        return \"({}, {} )\".format(self.x, self.y)\n",
    "    \n",
    "    \n",
    "    def __add__(self, other):\n",
    "        if isinstance(other, Point):\n",
    "            return Point(self.x + other.x, self.y + other.y)\n",
    "        \n",
    "        else:\n",
    "            return Point(self.x + other, self.y + other)\n",
    "        \n",
    "\n",
    "    def __sub__(self, other):\n",
    "        if isinstance(other, Point):\n",
    "            return Point(self.x - other.x, self.y - other.y)\n",
    "        \n",
    "        else:\n",
    "            return Point(self.x - other, self.y - other)\n",
    "        \n",
    "        \n",
    "    def __mul__(self, other):\n",
    "        if isinstance (other, Point):\n",
    "            return Point(self.x * other.x, self.y * other.y)\n",
    "        \n",
    "        else:\n",
    "            return Point(self.x * other, self.y * other)"
   ]
  },
  {
   "cell_type": "code",
   "execution_count": 2,
   "id": "774f4a1f",
   "metadata": {},
   "outputs": [],
   "source": [
    "p1 = Point(3,4)\n",
    "p2 = Point(-4,1)"
   ]
  },
  {
   "cell_type": "code",
   "execution_count": 3,
   "id": "0393dfa5",
   "metadata": {},
   "outputs": [],
   "source": [
    "p3 = p1+p2"
   ]
  },
  {
   "cell_type": "code",
   "execution_count": 5,
   "id": "929abf52",
   "metadata": {},
   "outputs": [
    {
     "name": "stdout",
     "output_type": "stream",
     "text": [
      "p1+p2 =  (-1, 5 )\n"
     ]
    }
   ],
   "source": [
    "print(\"p1+p2 = \",p3)"
   ]
  },
  {
   "cell_type": "code",
   "execution_count": 6,
   "id": "97631eee",
   "metadata": {},
   "outputs": [],
   "source": [
    "p4 = p2 - p1"
   ]
  },
  {
   "cell_type": "code",
   "execution_count": 8,
   "id": "a1c93ef8",
   "metadata": {},
   "outputs": [
    {
     "name": "stdout",
     "output_type": "stream",
     "text": [
      "p2-p1 =  (-7, -3 )\n"
     ]
    }
   ],
   "source": [
    "print(\"p2-p1 = \", p4)"
   ]
  },
  {
   "cell_type": "code",
   "execution_count": 9,
   "id": "e4c33c59",
   "metadata": {},
   "outputs": [],
   "source": [
    "p5 = p1 * p2"
   ]
  },
  {
   "cell_type": "code",
   "execution_count": 10,
   "id": "6abd57d5",
   "metadata": {},
   "outputs": [
    {
     "name": "stdout",
     "output_type": "stream",
     "text": [
      "p1 * p2= (-12, 4 )\n"
     ]
    }
   ],
   "source": [
    "print(\"p1 * p2=\",p5)"
   ]
  },
  {
   "cell_type": "code",
   "execution_count": 11,
   "id": "e3cc0d5a",
   "metadata": {},
   "outputs": [],
   "source": [
    "p6 = p3*3"
   ]
  },
  {
   "cell_type": "code",
   "execution_count": 12,
   "id": "1cddf9eb",
   "metadata": {},
   "outputs": [
    {
     "name": "stdout",
     "output_type": "stream",
     "text": [
      "p6= (-3, 15 )\n"
     ]
    }
   ],
   "source": [
    "print(\"p6=\",p6)"
   ]
  },
  {
   "cell_type": "code",
   "execution_count": null,
   "id": "9d708c90",
   "metadata": {},
   "outputs": [],
   "source": []
  }
 ],
 "metadata": {
  "kernelspec": {
   "display_name": "Python 3 (ipykernel)",
   "language": "python",
   "name": "python3"
  },
  "language_info": {
   "codemirror_mode": {
    "name": "ipython",
    "version": 3
   },
   "file_extension": ".py",
   "mimetype": "text/x-python",
   "name": "python",
   "nbconvert_exporter": "python",
   "pygments_lexer": "ipython3",
   "version": "3.9.13"
  }
 },
 "nbformat": 4,
 "nbformat_minor": 5
}
