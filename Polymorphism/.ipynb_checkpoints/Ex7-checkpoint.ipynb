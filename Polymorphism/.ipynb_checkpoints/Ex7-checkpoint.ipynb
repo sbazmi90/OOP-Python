{
 "cells": [
  {
   "cell_type": "code",
   "execution_count": null,
   "id": "92e1b9f6",
   "metadata": {},
   "outputs": [],
   "source": []
  },
  {
   "cell_type": "code",
   "execution_count": 9,
   "id": "3327ad4e",
   "metadata": {},
   "outputs": [],
   "source": [
    "class Animal:\n",
    "    \n",
    "    def __init__(self, species, sound):\n",
    "        self.species = species\n",
    "        self.sound = sound\n",
    "        \n",
    "    def make_sound(self):\n",
    "        print(f\"{self.species} makes a sound {self.sound}\")"
   ]
  },
  {
   "cell_type": "code",
   "execution_count": 10,
   "id": "52917242",
   "metadata": {},
   "outputs": [],
   "source": [
    "class Dog(Animal):\n",
    "    \n",
    "    def __init__(self, breed, species = \"Dog\", sound = \"Bark\"):\n",
    "        super().__init__(species, sound)\n",
    "        self.breed = breed\n",
    "        \n",
    "    def make_sound(self):\n",
    "        print(f\"{self.breed} makes a sound {self.sound}\")"
   ]
  },
  {
   "cell_type": "code",
   "execution_count": 11,
   "id": "cd5ff228",
   "metadata": {},
   "outputs": [],
   "source": [
    "class Cat(Animal):\n",
    "    \n",
    "    def __init__(self, breed, species = \"Cat\", sound = \"Meow\"):\n",
    "        super().__init__(species, sound)\n",
    "        self.breed = breed\n",
    "        \n",
    "    def make_sound(self):\n",
    "        print(f\"{self.breed} makes a sound {self.sound}\")"
   ]
  },
  {
   "cell_type": "code",
   "execution_count": 12,
   "id": "6e5ab9d6",
   "metadata": {},
   "outputs": [],
   "source": [
    "dog = Dog(\"Labrador\")"
   ]
  },
  {
   "cell_type": "code",
   "execution_count": 13,
   "id": "91298beb",
   "metadata": {},
   "outputs": [
    {
     "name": "stdout",
     "output_type": "stream",
     "text": [
      "Labrador makes a sound Bark\n"
     ]
    }
   ],
   "source": [
    "dog.make_sound()"
   ]
  },
  {
   "cell_type": "code",
   "execution_count": 14,
   "id": "18b80e33",
   "metadata": {},
   "outputs": [],
   "source": [
    "cat = Cat(\"Persian\")"
   ]
  },
  {
   "cell_type": "code",
   "execution_count": 15,
   "id": "a914655b",
   "metadata": {},
   "outputs": [
    {
     "name": "stdout",
     "output_type": "stream",
     "text": [
      "Persian makes a sound Meow\n"
     ]
    }
   ],
   "source": [
    "cat.make_sound()"
   ]
  },
  {
   "cell_type": "code",
   "execution_count": null,
   "id": "aeeb282e",
   "metadata": {},
   "outputs": [],
   "source": []
  }
 ],
 "metadata": {
  "kernelspec": {
   "display_name": "Python 3 (ipykernel)",
   "language": "python",
   "name": "python3"
  },
  "language_info": {
   "codemirror_mode": {
    "name": "ipython",
    "version": 3
   },
   "file_extension": ".py",
   "mimetype": "text/x-python",
   "name": "python",
   "nbconvert_exporter": "python",
   "pygments_lexer": "ipython3",
   "version": "3.9.13"
  }
 },
 "nbformat": 4,
 "nbformat_minor": 5
}
