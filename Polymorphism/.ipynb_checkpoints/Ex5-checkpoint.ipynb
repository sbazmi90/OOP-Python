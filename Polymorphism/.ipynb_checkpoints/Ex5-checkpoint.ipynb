{
 "cells": [
  {
   "cell_type": "markdown",
   "id": "08e7324c",
   "metadata": {},
   "source": [
    "#### In this example, the Vector class defines a __add__ method that allows you to add two vectors together. The method uses \n",
    "\n",
    "#### the isinstance function to check if the other argument is an instance of the Vector class. If it is, then the method adds the \n",
    "\n",
    "#### x and y components of the two vectors and returns a new Vector instance with the result. If the other argument is not an \n",
    "\n",
    "#### instance of the Vector class, then the method assumes it's a scalar value and adds it to both the x and y components of \n",
    "\n",
    "#### the vector."
   ]
  },
  {
   "cell_type": "code",
   "execution_count": 1,
   "id": "25f1d7f0",
   "metadata": {},
   "outputs": [],
   "source": [
    "class Vector:\n",
    "    \n",
    "    def __init__(self, x, y):\n",
    "        self.x = x\n",
    "        self.y = y\n",
    "        \n",
    "    def __add__(self, other):\n",
    "        \n",
    "        if isinstance(other, Vector):\n",
    "            return Vector(self.x + other.x, self.y+other.y)\n",
    "        else:\n",
    "            return Vector(self.x+ other, self.y+other)"
   ]
  },
  {
   "cell_type": "code",
   "execution_count": 2,
   "id": "d9d123a1",
   "metadata": {},
   "outputs": [],
   "source": [
    "v1 = Vector(1,2)"
   ]
  },
  {
   "cell_type": "code",
   "execution_count": 3,
   "id": "775dfc75",
   "metadata": {},
   "outputs": [],
   "source": [
    "v2 = Vector(3,4)"
   ]
  },
  {
   "cell_type": "code",
   "execution_count": 4,
   "id": "c75a9258",
   "metadata": {},
   "outputs": [],
   "source": [
    "v3 = v1+v2"
   ]
  },
  {
   "cell_type": "code",
   "execution_count": 5,
   "id": "68da83b4",
   "metadata": {},
   "outputs": [
    {
     "name": "stdout",
     "output_type": "stream",
     "text": [
      "4 6\n"
     ]
    }
   ],
   "source": [
    "print(v3.x, v3.y)"
   ]
  },
  {
   "cell_type": "code",
   "execution_count": 6,
   "id": "c4886a8e",
   "metadata": {},
   "outputs": [],
   "source": [
    "v4 = v1+10"
   ]
  },
  {
   "cell_type": "code",
   "execution_count": 7,
   "id": "2d8aea60",
   "metadata": {},
   "outputs": [
    {
     "name": "stdout",
     "output_type": "stream",
     "text": [
      "11 12\n"
     ]
    }
   ],
   "source": [
    "print(v4.x, v4.y)"
   ]
  },
  {
   "cell_type": "code",
   "execution_count": 12,
   "id": "6cbbfb41",
   "metadata": {},
   "outputs": [
    {
     "data": {
      "text/plain": [
       "<__main__.Vector at 0x7fcab1fdaaf0>"
      ]
     },
     "execution_count": 12,
     "metadata": {},
     "output_type": "execute_result"
    }
   ],
   "source": [
    "v3.__add__(v4)"
   ]
  },
  {
   "cell_type": "code",
   "execution_count": 13,
   "id": "59aadba8",
   "metadata": {},
   "outputs": [
    {
     "name": "stdout",
     "output_type": "stream",
     "text": [
      "<__main__.Vector object at 0x7fcab1fdad00>\n"
     ]
    }
   ],
   "source": [
    "print(v3.__add__(v4))"
   ]
  },
  {
   "cell_type": "code",
   "execution_count": 14,
   "id": "90acab37",
   "metadata": {},
   "outputs": [
    {
     "data": {
      "text/plain": [
       "<__main__.Vector at 0x7fcab1d8ccd0>"
      ]
     },
     "execution_count": 14,
     "metadata": {},
     "output_type": "execute_result"
    }
   ],
   "source": [
    "Vector(2,2).__add__(Vector(1,3))"
   ]
  },
  {
   "cell_type": "code",
   "execution_count": null,
   "id": "3bfda9da",
   "metadata": {},
   "outputs": [],
   "source": []
  }
 ],
 "metadata": {
  "kernelspec": {
   "display_name": "Python 3 (ipykernel)",
   "language": "python",
   "name": "python3"
  },
  "language_info": {
   "codemirror_mode": {
    "name": "ipython",
    "version": 3
   },
   "file_extension": ".py",
   "mimetype": "text/x-python",
   "name": "python",
   "nbconvert_exporter": "python",
   "pygments_lexer": "ipython3",
   "version": "3.9.13"
  }
 },
 "nbformat": 4,
 "nbformat_minor": 5
}
