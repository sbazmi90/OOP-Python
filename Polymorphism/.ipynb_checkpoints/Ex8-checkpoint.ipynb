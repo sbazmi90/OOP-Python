{
 "cells": [
  {
   "cell_type": "code",
   "execution_count": 4,
   "id": "9c691386",
   "metadata": {},
   "outputs": [],
   "source": [
    "class Shape:\n",
    "    \n",
    "    def __init__(self, sides = 0):\n",
    "        self.sides = sides\n",
    "    \n",
    "    def __str__(self):\n",
    "        return f\"Shape with {self.sides} sides\"\n",
    "    \n",
    "    def __add__(self, other):\n",
    "        return Shape(self.sides + other.sides)\n",
    "        \n",
    "    "
   ]
  },
  {
   "cell_type": "code",
   "execution_count": 5,
   "id": "a52b02ce",
   "metadata": {},
   "outputs": [],
   "source": [
    "class Triangle(Shape):\n",
    "    \n",
    "    def __init__(self):\n",
    "        super().__init__(3)"
   ]
  },
  {
   "cell_type": "code",
   "execution_count": 7,
   "id": "752b4427",
   "metadata": {},
   "outputs": [],
   "source": [
    "t1 = Triangle()\n",
    "t2 = Triangle()"
   ]
  },
  {
   "cell_type": "code",
   "execution_count": 8,
   "id": "bd048e36",
   "metadata": {},
   "outputs": [
    {
     "name": "stdout",
     "output_type": "stream",
     "text": [
      "Shape with 6 sides\n"
     ]
    }
   ],
   "source": [
    "print(t1+t2)"
   ]
  },
  {
   "cell_type": "code",
   "execution_count": null,
   "id": "eb973cb9",
   "metadata": {},
   "outputs": [],
   "source": []
  }
 ],
 "metadata": {
  "kernelspec": {
   "display_name": "Python 3 (ipykernel)",
   "language": "python",
   "name": "python3"
  },
  "language_info": {
   "codemirror_mode": {
    "name": "ipython",
    "version": 3
   },
   "file_extension": ".py",
   "mimetype": "text/x-python",
   "name": "python",
   "nbconvert_exporter": "python",
   "pygments_lexer": "ipython3",
   "version": "3.9.13"
  }
 },
 "nbformat": 4,
 "nbformat_minor": 5
}
