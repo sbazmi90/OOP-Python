{
 "cells": [
  {
   "cell_type": "markdown",
   "metadata": {},
   "source": [
    "## This demonstrates polymorphism because the objects in the shapes list are treated as \n",
    "\n",
    "## objects of the Shape class, even though they belong to different classes, and the correct \n",
    "\n",
    "## implementation of the area method is called based on the type of object."
   ]
  },
  {
   "cell_type": "markdown",
   "metadata": {},
   "source": [
    "#### In this example, the Shape class defines a common interface for calculating the area of a shape. The Square and Circle classes \n",
    "\n",
    "#### both inherit from the Shape class and provide their own implementation of the area method. The shapes list contains objects of \n",
    "\n",
    "#### both Square and Circle classes. The loop at the end of the code iterates through the list and calls the area method on each \n",
    "\n",
    "#### object, which invokes the appropriate implementation based on the type of object."
   ]
  },
  {
   "cell_type": "markdown",
   "metadata": {},
   "source": [
    "### The example I provided demonstrates method overriding, not method overloading.\n",
    "\n",
    "#### In method overriding, a subclass provides a new implementation for a method that it inherits from its superclass. The method in \n",
    "\n",
    "#### the subclass has the same name, return type, and parameters as the method in the superclass. This is what happens in the \n",
    "\n",
    "#### Square and Circle classes in the example, where they both override the area method of the Shape class."
   ]
  },
  {
   "cell_type": "code",
   "execution_count": 3,
   "metadata": {},
   "outputs": [],
   "source": [
    "import math as mt\n",
    "\n",
    "class Shape:\n",
    "    \n",
    "    def Area(self):\n",
    "        pass"
   ]
  },
  {
   "cell_type": "code",
   "execution_count": 4,
   "metadata": {},
   "outputs": [],
   "source": [
    "class Square(Shape):\n",
    "    \n",
    "    def __init__(self, side):\n",
    "        self.side = side\n",
    "        \n",
    "    def Area(self):\n",
    "        return self.side * self.side"
   ]
  },
  {
   "cell_type": "code",
   "execution_count": 5,
   "metadata": {},
   "outputs": [],
   "source": [
    "class Circle(Shape):\n",
    "    \n",
    "    def __init__(self, radius):\n",
    "        self.radius = radius\n",
    "        \n",
    "    def Area(self):\n",
    "        return mt.pi * (self.radius)**2"
   ]
  },
  {
   "cell_type": "code",
   "execution_count": 6,
   "metadata": {},
   "outputs": [],
   "source": [
    "shapes = [Square(5), Circle(5), Square(6), Circle(6)]"
   ]
  },
  {
   "cell_type": "code",
   "execution_count": 8,
   "metadata": {},
   "outputs": [
    {
     "name": "stdout",
     "output_type": "stream",
     "text": [
      "\n",
      " 25\n",
      "\n",
      " 78.53981633974483\n",
      "\n",
      " 36\n",
      "\n",
      " 113.09733552923255\n"
     ]
    }
   ],
   "source": [
    "for item in shapes:\n",
    "    print(\"\\n\",item.Area())"
   ]
  },
  {
   "cell_type": "code",
   "execution_count": null,
   "metadata": {},
   "outputs": [],
   "source": []
  }
 ],
 "metadata": {
  "kernelspec": {
   "display_name": "Python 3",
   "language": "python",
   "name": "python3"
  },
  "language_info": {
   "codemirror_mode": {
    "name": "ipython",
    "version": 3
   },
   "file_extension": ".py",
   "mimetype": "text/x-python",
   "name": "python",
   "nbconvert_exporter": "python",
   "pygments_lexer": "ipython3",
   "version": "3.7.3"
  }
 },
 "nbformat": 4,
 "nbformat_minor": 2
}
