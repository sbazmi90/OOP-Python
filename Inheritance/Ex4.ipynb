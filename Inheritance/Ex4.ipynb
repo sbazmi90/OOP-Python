{
 "cells": [
  {
   "cell_type": "markdown",
   "metadata": {},
   "source": [
    "### Example 4\n",
    "\n",
    "#### Create a class Circle that inherits from a base class Shape and overrides its methods to calculate the area and circumference of \n",
    "\n",
    "#### a circle. Then create a class Sphere that inherits from Circle and overrides its methods to calculate the surface area and volume\n",
    "\n",
    "#### of a sphere."
   ]
  },
  {
   "cell_type": "code",
   "execution_count": 25,
   "metadata": {},
   "outputs": [],
   "source": [
    "import math as mt\n",
    "\n",
    "\n",
    "class Shape:\n",
    "    \n",
    "    def __init__(self, sides = 0):\n",
    "        self.sides = sides\n",
    "        \n",
    "    def Area(self):\n",
    "        pass\n",
    "    \n",
    "    def Circumference(self):\n",
    "        pass"
   ]
  },
  {
   "cell_type": "code",
   "execution_count": 26,
   "metadata": {},
   "outputs": [],
   "source": [
    "class Circle(Shape):\n",
    "    \n",
    "    def __init__(self, radius):\n",
    "        Shape.__init__(self, 0)\n",
    "        self.radius = radius\n",
    "        \n",
    "    def Area(self):\n",
    "        return mt.pi * (self.radius**2)\n",
    "    \n",
    "    def Circumference(self):\n",
    "        return 2 * mt.pi * self.radius"
   ]
  },
  {
   "cell_type": "code",
   "execution_count": 27,
   "metadata": {},
   "outputs": [],
   "source": [
    "class Sphere(Circle):\n",
    "    \n",
    "    def Area(self):\n",
    "        return 4 * mt.pi * (self.radius**2)\n",
    "    \n",
    "    def Volume(self):\n",
    "        return (4./3.) * mt.pi * (self.radius**3)"
   ]
  },
  {
   "cell_type": "code",
   "execution_count": 28,
   "metadata": {},
   "outputs": [],
   "source": [
    "c = Circle(10)"
   ]
  },
  {
   "cell_type": "code",
   "execution_count": 29,
   "metadata": {},
   "outputs": [
    {
     "data": {
      "text/plain": [
       "314.1592653589793"
      ]
     },
     "execution_count": 29,
     "metadata": {},
     "output_type": "execute_result"
    }
   ],
   "source": [
    "c.Area()"
   ]
  },
  {
   "cell_type": "code",
   "execution_count": 30,
   "metadata": {},
   "outputs": [],
   "source": [
    "s = Sphere(10)"
   ]
  },
  {
   "cell_type": "code",
   "execution_count": 31,
   "metadata": {},
   "outputs": [
    {
     "data": {
      "text/plain": [
       "4188.790204786391"
      ]
     },
     "execution_count": 31,
     "metadata": {},
     "output_type": "execute_result"
    }
   ],
   "source": [
    "s.Volume()"
   ]
  },
  {
   "cell_type": "code",
   "execution_count": null,
   "metadata": {},
   "outputs": [],
   "source": []
  }
 ],
 "metadata": {
  "kernelspec": {
   "display_name": "Python 3",
   "language": "python",
   "name": "python3"
  },
  "language_info": {
   "codemirror_mode": {
    "name": "ipython",
    "version": 3
   },
   "file_extension": ".py",
   "mimetype": "text/x-python",
   "name": "python",
   "nbconvert_exporter": "python",
   "pygments_lexer": "ipython3",
   "version": "3.7.3"
  }
 },
 "nbformat": 4,
 "nbformat_minor": 2
}
