{
 "cells": [
  {
   "cell_type": "markdown",
   "metadata": {},
   "source": [
    "## Exercise 5: Rational Numbers\n",
    "\n",
    "#### Create a class Rational that represents a rational number (fraction) and overloads the +, -, *, and / \n",
    "\n",
    "#### operators to perform basic arithmetic operations."
   ]
  },
  {
   "cell_type": "code",
   "execution_count": 13,
   "metadata": {},
   "outputs": [],
   "source": [
    "class Rational:\n",
    "    \n",
    "    def __init__(self, numer, denom):\n",
    "        self.numer = numer\n",
    "        self.denom = denom\n",
    "        \n",
    "        \n",
    "    def __add__(self, other):\n",
    "        numer = self.numer * other.denom + self.denom * other.numer\n",
    "        denom = self.denom * other.denom\n",
    "        return Rational(numer, denom)\n",
    "    \n",
    "    def __sub__(self, other):\n",
    "        numer = self.numer * other.denom - self.denom * other.numer\n",
    "        denom = self.denom * other.denom\n",
    "        return Rational(numer, denom)\n",
    "        \n",
    "    def __mul__(self, other):\n",
    "        numer = self.numer * other.numer\n",
    "        denom = self.denom * other.denom\n",
    "        return Rational(numer, denom)\n",
    "    \n",
    "    def __truediv__(self, other):\n",
    "        numer = self.numer * other.denom\n",
    "        denom = self.denom * other.numer\n",
    "        return Rational(numer, denom)\n",
    "    \n",
    "    def __str__(self):\n",
    "        return str(self.numer)+\"/\"+str(self.denom)"
   ]
  },
  {
   "cell_type": "code",
   "execution_count": 14,
   "metadata": {},
   "outputs": [
    {
     "name": "stdout",
     "output_type": "stream",
     "text": [
      "2/3\n"
     ]
    }
   ],
   "source": [
    "a = Rational(2,3)\n",
    "print(a)"
   ]
  },
  {
   "cell_type": "code",
   "execution_count": 15,
   "metadata": {},
   "outputs": [
    {
     "name": "stdout",
     "output_type": "stream",
     "text": [
      "5/4\n"
     ]
    }
   ],
   "source": [
    "b = Rational(5,4)\n",
    "print(b)"
   ]
  },
  {
   "cell_type": "code",
   "execution_count": 16,
   "metadata": {},
   "outputs": [
    {
     "name": "stdout",
     "output_type": "stream",
     "text": [
      "23/12\n"
     ]
    }
   ],
   "source": [
    "print(a.__add__(b))"
   ]
  },
  {
   "cell_type": "code",
   "execution_count": 17,
   "metadata": {},
   "outputs": [
    {
     "name": "stdout",
     "output_type": "stream",
     "text": [
      "-7/12\n"
     ]
    }
   ],
   "source": [
    "print(a.__sub__(b))"
   ]
  },
  {
   "cell_type": "code",
   "execution_count": 18,
   "metadata": {},
   "outputs": [
    {
     "name": "stdout",
     "output_type": "stream",
     "text": [
      "10/12\n"
     ]
    }
   ],
   "source": [
    "print(a.__mul__(b))"
   ]
  },
  {
   "cell_type": "code",
   "execution_count": 19,
   "metadata": {},
   "outputs": [
    {
     "name": "stdout",
     "output_type": "stream",
     "text": [
      "8/15\n"
     ]
    }
   ],
   "source": [
    "print(a.__truediv__(b))"
   ]
  },
  {
   "cell_type": "code",
   "execution_count": 20,
   "metadata": {},
   "outputs": [
    {
     "data": {
      "text/plain": [
       "'2/3'"
      ]
     },
     "execution_count": 20,
     "metadata": {},
     "output_type": "execute_result"
    }
   ],
   "source": [
    "a.__str__()"
   ]
  },
  {
   "cell_type": "code",
   "execution_count": null,
   "metadata": {},
   "outputs": [],
   "source": []
  }
 ],
 "metadata": {
  "kernelspec": {
   "display_name": "Python 3",
   "language": "python",
   "name": "python3"
  },
  "language_info": {
   "codemirror_mode": {
    "name": "ipython",
    "version": 3
   },
   "file_extension": ".py",
   "mimetype": "text/x-python",
   "name": "python",
   "nbconvert_exporter": "python",
   "pygments_lexer": "ipython3",
   "version": "3.7.3"
  }
 },
 "nbformat": 4,
 "nbformat_minor": 2
}
