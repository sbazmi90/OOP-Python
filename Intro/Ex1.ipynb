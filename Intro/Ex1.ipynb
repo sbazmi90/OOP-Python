{
 "cells": [
  {
   "cell_type": "markdown",
   "metadata": {},
   "source": [
    "#### In this example, the Shape class has a constructor method that takes in the number of sides of the shape and two methods, area \n",
    "\n",
    "#### and perimeter, that are meant to be overridden in derived classes. The Rectangle and Square classes inherit from the Shape \n",
    "\n",
    "#### class and override the area and perimeter methods to return the area and perimeter of their respective shapes."
   ]
  },
  {
   "cell_type": "code",
   "execution_count": 8,
   "metadata": {},
   "outputs": [],
   "source": [
    "class Shape:\n",
    "    \n",
    "    def __init__(self, sides = 0):\n",
    "        self.sides = sides\n",
    "        \n",
    "    def Area(self):\n",
    "        pass\n",
    "    \n",
    "    def Perimeter(self):\n",
    "        pass"
   ]
  },
  {
   "cell_type": "code",
   "execution_count": 9,
   "metadata": {},
   "outputs": [],
   "source": [
    "class Rectangle(Shape):\n",
    "    \n",
    "    def __init__(self, length, breadth):\n",
    "        Shape.__init__(self,4)\n",
    "        self.length = length\n",
    "        self.breadth = breadth\n",
    "        \n",
    "    def Area(self):\n",
    "        return self.length * self.breadth\n",
    "    \n",
    "    def Perimeter(self):\n",
    "        return 2 * (self.length+self.breadth)"
   ]
  },
  {
   "cell_type": "code",
   "execution_count": 17,
   "metadata": {},
   "outputs": [],
   "source": [
    "class Square(Shape):\n",
    "    \n",
    "    def __init__(self, side):\n",
    "        Shape.__init__(self, 4)\n",
    "        self.side = side\n",
    "        \n",
    "    def Area(self):\n",
    "        return self.side * self.side\n",
    "    \n",
    "    def Perimeter(self):\n",
    "        return 4 * self.side"
   ]
  },
  {
   "cell_type": "code",
   "execution_count": 18,
   "metadata": {},
   "outputs": [
    {
     "name": "stdout",
     "output_type": "stream",
     "text": [
      "40\n",
      "26\n"
     ]
    }
   ],
   "source": [
    "r = Rectangle(5,8)\n",
    "print(r.Area())\n",
    "print(r.Perimeter())"
   ]
  },
  {
   "cell_type": "code",
   "execution_count": 19,
   "metadata": {},
   "outputs": [
    {
     "name": "stdout",
     "output_type": "stream",
     "text": [
      "100\n",
      "40\n"
     ]
    }
   ],
   "source": [
    "s = Square(10)\n",
    "print(s.Area())\n",
    "print(s.Perimeter())"
   ]
  },
  {
   "cell_type": "code",
   "execution_count": null,
   "metadata": {},
   "outputs": [],
   "source": []
  }
 ],
 "metadata": {
  "kernelspec": {
   "display_name": "Python 3",
   "language": "python",
   "name": "python3"
  },
  "language_info": {
   "codemirror_mode": {
    "name": "ipython",
    "version": 3
   },
   "file_extension": ".py",
   "mimetype": "text/x-python",
   "name": "python",
   "nbconvert_exporter": "python",
   "pygments_lexer": "ipython3",
   "version": "3.7.3"
  }
 },
 "nbformat": 4,
 "nbformat_minor": 2
}
