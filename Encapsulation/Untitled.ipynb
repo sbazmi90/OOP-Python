{
 "cells": [
  {
   "cell_type": "markdown",
   "id": "3a6d8c9c",
   "metadata": {},
   "source": [
    "### This notebook is specified to learn encapsulation in OOP, Python."
   ]
  },
  {
   "cell_type": "code",
   "execution_count": null,
   "id": "4c64fffe",
   "metadata": {},
   "outputs": [],
   "source": []
  }
 ],
 "metadata": {
  "kernelspec": {
   "display_name": "Python 3 (ipykernel)",
   "language": "python",
   "name": "python3"
  },
  "language_info": {
   "codemirror_mode": {
    "name": "ipython",
    "version": 3
   },
   "file_extension": ".py",
   "mimetype": "text/x-python",
   "name": "python",
   "nbconvert_exporter": "python",
   "pygments_lexer": "ipython3",
   "version": "3.9.13"
  }
 },
 "nbformat": 4,
 "nbformat_minor": 5
}
