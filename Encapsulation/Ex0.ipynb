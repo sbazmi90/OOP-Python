{
 "cells": [
  {
   "cell_type": "markdown",
   "id": "3a6d8c9c",
   "metadata": {},
   "source": [
    "### This notebook is specified to learn encapsulation in OOP, Python."
   ]
  },
  {
   "cell_type": "code",
   "execution_count": 1,
   "id": "4c64fffe",
   "metadata": {},
   "outputs": [],
   "source": [
    "class EncapsulationExample:\n",
    "    \n",
    "    def __init__(self, value):\n",
    "        self.__value = value\n",
    "        \n",
    "    def get_value(self):\n",
    "        return self.__value\n",
    "    \n",
    "    def set_value(self):\n",
    "        return self.__value"
   ]
  },
  {
   "cell_type": "markdown",
   "id": "619d8022",
   "metadata": {},
   "source": [
    "#### In this example, the EncapsulationExample class has a private attribute __value, and two methods get_value and \n",
    "\n",
    "#### set_value that can be used to access and modify the value. Any code that wants to access or modify the value of an \n",
    "\n",
    "#### instance of EncapsulationExample should use the get_value and set_value methods, rather than accessing the __value \n",
    "\n",
    "#### attribute directly."
   ]
  },
  {
   "cell_type": "code",
   "execution_count": null,
   "id": "c3997bbb",
   "metadata": {},
   "outputs": [],
   "source": []
  }
 ],
 "metadata": {
  "kernelspec": {
   "display_name": "Python 3 (ipykernel)",
   "language": "python",
   "name": "python3"
  },
  "language_info": {
   "codemirror_mode": {
    "name": "ipython",
    "version": 3
   },
   "file_extension": ".py",
   "mimetype": "text/x-python",
   "name": "python",
   "nbconvert_exporter": "python",
   "pygments_lexer": "ipython3",
   "version": "3.9.13"
  }
 },
 "nbformat": 4,
 "nbformat_minor": 5
}
