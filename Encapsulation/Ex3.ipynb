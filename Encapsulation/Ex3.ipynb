{
 "cells": [
  {
   "cell_type": "markdown",
   "id": "6b87b3cd",
   "metadata": {},
   "source": [
    "## A class to represent a car with a make, model, and year"
   ]
  },
  {
   "cell_type": "code",
   "execution_count": 1,
   "id": "b58d2541",
   "metadata": {},
   "outputs": [],
   "source": [
    "class Car:\n",
    "    \n",
    "    def __init__(self, make, model, year):\n",
    "        self.__make = make\n",
    "        self.__model = model\n",
    "        self.__year = year\n",
    "        \n",
    "    def get_make(self):\n",
    "        return self.__make\n",
    "    \n",
    "    def get_model(self):\n",
    "        return self.__model\n",
    "    \n",
    "    def get_year(self):\n",
    "        return self.__year"
   ]
  },
  {
   "cell_type": "code",
   "execution_count": 2,
   "id": "4778b946",
   "metadata": {},
   "outputs": [],
   "source": [
    "car = Car(\"Toyota\", \"Highlander\", \"2022\")"
   ]
  },
  {
   "cell_type": "code",
   "execution_count": 3,
   "id": "387775ee",
   "metadata": {},
   "outputs": [
    {
     "data": {
      "text/plain": [
       "'Toyota'"
      ]
     },
     "execution_count": 3,
     "metadata": {},
     "output_type": "execute_result"
    }
   ],
   "source": [
    "car.get_make()"
   ]
  },
  {
   "cell_type": "code",
   "execution_count": null,
   "id": "6aab13d7",
   "metadata": {},
   "outputs": [],
   "source": []
  }
 ],
 "metadata": {
  "kernelspec": {
   "display_name": "Python 3 (ipykernel)",
   "language": "python",
   "name": "python3"
  },
  "language_info": {
   "codemirror_mode": {
    "name": "ipython",
    "version": 3
   },
   "file_extension": ".py",
   "mimetype": "text/x-python",
   "name": "python",
   "nbconvert_exporter": "python",
   "pygments_lexer": "ipython3",
   "version": "3.9.13"
  }
 },
 "nbformat": 4,
 "nbformat_minor": 5
}
