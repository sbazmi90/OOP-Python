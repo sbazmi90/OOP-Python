{
 "cells": [
  {
   "cell_type": "markdown",
   "id": "13da8ed0",
   "metadata": {},
   "source": [
    "### Example 1: A class to represent a bank account with a balance"
   ]
  },
  {
   "cell_type": "code",
   "execution_count": 1,
   "id": "38e42647",
   "metadata": {},
   "outputs": [],
   "source": [
    "class BankAccount:\n",
    "    \n",
    "    def __init__(self, balance):\n",
    "        self.__balance = balance\n",
    "        \n",
    "    def get_balance(self):\n",
    "        return self.__balance\n",
    "    \n",
    "    def deposite(self, amount):\n",
    "        self.__balance += amount\n",
    "        \n",
    "    def withdraw(self, amount):\n",
    "        if self.__balance >= amount:\n",
    "            self.__balance -= amount\n",
    "            return True\n",
    "        else:\n",
    "            return False"
   ]
  },
  {
   "cell_type": "code",
   "execution_count": 2,
   "id": "c30b7e73",
   "metadata": {},
   "outputs": [],
   "source": [
    "account = BankAccount(1000)"
   ]
  },
  {
   "cell_type": "code",
   "execution_count": 3,
   "id": "060a18a9",
   "metadata": {},
   "outputs": [
    {
     "name": "stdout",
     "output_type": "stream",
     "text": [
      "1000\n"
     ]
    }
   ],
   "source": [
    "print(account.get_balance())"
   ]
  },
  {
   "cell_type": "code",
   "execution_count": 4,
   "id": "a7539315",
   "metadata": {},
   "outputs": [],
   "source": [
    "account.deposite(500)"
   ]
  },
  {
   "cell_type": "code",
   "execution_count": 5,
   "id": "8ec5ad70",
   "metadata": {},
   "outputs": [
    {
     "name": "stdout",
     "output_type": "stream",
     "text": [
      "1500\n"
     ]
    }
   ],
   "source": [
    "print(account.get_balance())"
   ]
  },
  {
   "cell_type": "code",
   "execution_count": 6,
   "id": "fafa94f5",
   "metadata": {},
   "outputs": [
    {
     "data": {
      "text/plain": [
       "True"
      ]
     },
     "execution_count": 6,
     "metadata": {},
     "output_type": "execute_result"
    }
   ],
   "source": [
    "account.withdraw(250)"
   ]
  },
  {
   "cell_type": "code",
   "execution_count": 7,
   "id": "3e23c3a5",
   "metadata": {},
   "outputs": [
    {
     "name": "stdout",
     "output_type": "stream",
     "text": [
      "1250\n"
     ]
    }
   ],
   "source": [
    "print(account.get_balance())"
   ]
  },
  {
   "cell_type": "code",
   "execution_count": null,
   "id": "48c06b5d",
   "metadata": {},
   "outputs": [],
   "source": []
  }
 ],
 "metadata": {
  "kernelspec": {
   "display_name": "Python 3 (ipykernel)",
   "language": "python",
   "name": "python3"
  },
  "language_info": {
   "codemirror_mode": {
    "name": "ipython",
    "version": 3
   },
   "file_extension": ".py",
   "mimetype": "text/x-python",
   "name": "python",
   "nbconvert_exporter": "python",
   "pygments_lexer": "ipython3",
   "version": "3.9.13"
  }
 },
 "nbformat": 4,
 "nbformat_minor": 5
}
