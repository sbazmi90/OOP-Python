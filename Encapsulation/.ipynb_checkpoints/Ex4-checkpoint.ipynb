{
 "cells": [
  {
   "cell_type": "markdown",
   "id": "b702a1f3",
   "metadata": {},
   "source": [
    "### An example combining inheritance and encapsulation:"
   ]
  },
  {
   "cell_type": "code",
   "execution_count": 1,
   "id": "0bac8849",
   "metadata": {},
   "outputs": [],
   "source": [
    "class Person:\n",
    "    \n",
    "    def __init__(self, name, age):\n",
    "        self.__name = name\n",
    "        self.__age = age\n",
    "        \n",
    "    def get_name(self):\n",
    "        return self.__name\n",
    "    \n",
    "    def get_age(self):\n",
    "        return self.__age"
   ]
  },
  {
   "cell_type": "code",
   "execution_count": 15,
   "id": "b9755bc5",
   "metadata": {},
   "outputs": [],
   "source": [
    "class Employee(Person):\n",
    "    \n",
    "    def __init__(self, name, age, employee_id):\n",
    "        Person.__init__(self, name, age)\n",
    "        # if you want to use super\n",
    "        # super().__init__(name, age)\n",
    "        self.__employee_id = employee_id\n",
    "        \n",
    "    def get_employee_id(self):\n",
    "        return self.__employee_id"
   ]
  },
  {
   "cell_type": "code",
   "execution_count": 16,
   "id": "7c7e735d",
   "metadata": {},
   "outputs": [],
   "source": [
    "employee = Employee(\"John\", 32, \"AB007\")"
   ]
  },
  {
   "cell_type": "code",
   "execution_count": 17,
   "id": "052593d5",
   "metadata": {},
   "outputs": [
    {
     "name": "stdout",
     "output_type": "stream",
     "text": [
      "Name: \n",
      " John\n"
     ]
    }
   ],
   "source": [
    "print(\"Name: \\n\", employee.get_name())"
   ]
  },
  {
   "cell_type": "code",
   "execution_count": 14,
   "id": "92a37e6a",
   "metadata": {},
   "outputs": [
    {
     "name": "stdout",
     "output_type": "stream",
     "text": [
      "id: \n",
      " AB007\n"
     ]
    }
   ],
   "source": [
    "print(\"id: \\n\", employee.get_employee_id())"
   ]
  },
  {
   "cell_type": "code",
   "execution_count": null,
   "id": "205fa1e5",
   "metadata": {},
   "outputs": [],
   "source": []
  }
 ],
 "metadata": {
  "kernelspec": {
   "display_name": "Python 3 (ipykernel)",
   "language": "python",
   "name": "python3"
  },
  "language_info": {
   "codemirror_mode": {
    "name": "ipython",
    "version": 3
   },
   "file_extension": ".py",
   "mimetype": "text/x-python",
   "name": "python",
   "nbconvert_exporter": "python",
   "pygments_lexer": "ipython3",
   "version": "3.9.13"
  }
 },
 "nbformat": 4,
 "nbformat_minor": 5
}
